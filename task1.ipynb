{
 "cells": [
  {
   "cell_type": "markdown",
   "metadata": {},
   "source": [
    "Little Petya ama los regalos. Su mamá le compró dos cadenas del mismo tamaño para su cumpleaños. Las cadenas consisten en letras latinas mayúsculas y minúsculas.\n",
    "Ahora Petya quiere comparar esas dos cadenas lexicográficamente. No importa si las\n",
    "letras están en mayúsculas o minúsculas. Ayuda a Petya a realizar la comparación.\n",
    "\n",
    "(Ordenar algo lexicográficamente significa organizar elementos alfabéticamente, de\n",
    "la misma forma que se listan las palabras en un diccionario)\n",
    "\n",
    "Especificaciones de la Función:\n",
    "Nombre de la función:\n",
    "● El nombre de la función debe ser: comparar_cadenas_lexicograficas\n",
    "Parámetros:\n",
    "● cadena1 (str): La primera cadena a comparar.\n",
    "● cadena2 (str): La segunda cadena a comparar.\n",
    "\n",
    "Retorno:\n",
    "● Si la primera cadena es menor que la segunda, retornar \"-1\".\n",
    "● Si la segunda cadena es menor que la primera, retornar \"1\".\n",
    "● Si las cadenas son iguales, retornar \"0\".\n",
    "Ejemplo\n",
    "● Si tenemos las cadenas \"abc\" y \"abd\", al compararlas lexicográficamente, la\n",
    "cadena \"abc\" sería considerada menor que \"abd\", ya que en la tercera posición\n",
    "la letra \"c\" tiene un valor ASCII menor que \"d\"."
   ]
  },
  {
   "cell_type": "markdown",
   "metadata": {},
   "source": [
    "```\n",
    "#1 Ordenamos las cadenas lexicográficamente\n",
    "``` \n"
   ]
  },
  {
   "cell_type": "markdown",
   "metadata": {},
   "source": [
    "``` \n",
    "#2 Si la cadena1 es menor que la segunda retorna \"-1\"\n",
    "```"
   ]
  },
  {
   "cell_type": "markdown",
   "metadata": {},
   "source": [
    "```\n",
    "#3 Si la cadena2 es menor a la primera retorna \"1\"\n",
    "```"
   ]
  },
  {
   "cell_type": "markdown",
   "metadata": {},
   "source": [
    "```\n",
    "#4 Si las cadenas son iguales retorna \"0\"\n",
    "```"
   ]
  },
  {
   "cell_type": "code",
   "execution_count": 7,
   "metadata": {},
   "outputs": [],
   "source": [
    "def comparar_cadenas_lexicograficas(cadena1:str, cadena2:str):\n",
    "        \n",
    "        #1\n",
    "        cadena1 = cadena1.lower()\n",
    "        cadena2 = cadena2.lower()\n",
    "        #2\n",
    "        if(cadena1 < cadena2):\n",
    "            return \"-1\"\n",
    "        #3\n",
    "        elif(cadena1 > cadena2):\n",
    "            return \"1\"\n",
    "        #4\n",
    "        else:\n",
    "            return \"0\""
   ]
  },
  {
   "cell_type": "markdown",
   "metadata": {},
   "source": [
    "```\n",
    "Mostramos por consola el resultado\n",
    "```"
   ]
  },
  {
   "cell_type": "code",
   "execution_count": 6,
   "metadata": {},
   "outputs": [
    {
     "name": "stdout",
     "output_type": "stream",
     "text": [
      "-1\n"
     ]
    }
   ],
   "source": [
    "print(comparar_cadenas_lexicograficas(\"aaaabbbsse\", \"kssdwas\"))"
   ]
  }
 ],
 "metadata": {
  "kernelspec": {
   "display_name": "Python 3",
   "language": "python",
   "name": "python3"
  },
  "language_info": {
   "codemirror_mode": {
    "name": "ipython",
    "version": 3
   },
   "file_extension": ".py",
   "mimetype": "text/x-python",
   "name": "python",
   "nbconvert_exporter": "python",
   "pygments_lexer": "ipython3",
   "version": "3.12.3"
  }
 },
 "nbformat": 4,
 "nbformat_minor": 2
}
