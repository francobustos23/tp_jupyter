{
 "cells": [
  {
   "cell_type": "markdown",
   "metadata": {},
   "source": [
    "Se proporcionará una lista de ventas mensuales y su tarea es realizar análisis básico\n",
    "sobre estas ventas.\n",
    "\n",
    "● Agrupa los datos por trimestre y calcula el total de ventas para cada trimestre.\n",
    "● Filtrar y mostrar solo los meses donde las ventas superen 20000.\n",
    "● Encontrar el mes con el mayor volumen de ventas y mostrar esta información.\n",
    "● Calcular el promedio de ventas mensuales y mostrar esta información.\n",
    "● Crea un DataFrame que incluya dos columnas una para los meses y otra para\n",
    "el total de ventas de cada mes.\n"
   ]
  },
  {
   "cell_type": "markdown",
   "metadata": {},
   "source": [
    "```\n",
    "Importamos pandas\n",
    "```"
   ]
  },
  {
   "cell_type": "code",
   "execution_count": 2,
   "metadata": {},
   "outputs": [
    {
     "ename": "ModuleNotFoundError",
     "evalue": "No module named 'pandas'",
     "output_type": "error",
     "traceback": [
      "\u001b[1;31m---------------------------------------------------------------------------\u001b[0m",
      "\u001b[1;31mModuleNotFoundError\u001b[0m                       Traceback (most recent call last)",
      "Cell \u001b[1;32mIn[2], line 1\u001b[0m\n\u001b[1;32m----> 1\u001b[0m \u001b[38;5;28;01mimport\u001b[39;00m \u001b[38;5;21;01mpandas\u001b[39;00m \u001b[38;5;28;01mas\u001b[39;00m \u001b[38;5;21;01mpd\u001b[39;00m\n",
      "\u001b[1;31mModuleNotFoundError\u001b[0m: No module named 'pandas'"
     ]
    }
   ],
   "source": [
    "import pandas as pd"
   ]
  },
  {
   "cell_type": "markdown",
   "metadata": {},
   "source": [
    "```\n",
    "Importamos matplotlib\n",
    "```"
   ]
  },
  {
   "cell_type": "code",
   "execution_count": null,
   "metadata": {},
   "outputs": [],
   "source": [
    "import matplotlib.pyplot as plt"
   ]
  },
  {
   "cell_type": "code",
   "execution_count": null,
   "metadata": {},
   "outputs": [],
   "source": [
    "ventas_mensuales = [\n",
    "    {\"mes\": \"Enero\", \"total_ventas\": 15000, \"año\": 2023},\n",
    "    {\"mes\": \"Febrero\", \"total_ventas\": 18000, \"año\": 2023},\n",
    "    {\"mes\": \"Marzo\", \"total_ventas\": 22000, \"año\": 2023},\n",
    "    {\"mes\": \"Abril\", \"total_ventas\": 19000, \"año\": 2023},\n",
    "    {\"mes\": \"Mayo\", \"total_ventas\": 25000, \"año\": 2023},\n",
    "    {\"mes\": \"Junio\", \"total_ventas\": 28000, \"año\": 2023},\n",
    "    {\"mes\": \"Julio\", \"total_ventas\": 32000, \"año\": 2023},\n",
    "    {\"mes\": \"Agosto\", \"total_ventas\": 30000, \"año\": 2023},\n",
    "    {\"mes\": \"Septiembre\", \"total_ventas\": 28000, \"año\": 2023},\n",
    "    {\"mes\": \"Octubre\", \"total_ventas\": 31000, \"año\": 2023},\n",
    "    {\"mes\": \"Noviembre\", \"total_ventas\": 33000, \"año\": 2023},\n",
    "    {\"mes\": \"Diciembre\", \"total_ventas\": 36000, \"año\": 2023},\n",
    "    {\"mes\": \"Enero 2\", \"total_ventas\": 37000, \"año\": 2024},\n",
    "    {\"mes\": \"Febrero 2\", \"total_ventas\": 38000, \"año\": 2024},\n",
    "    {\"mes\": \"Marzo 2\", \"total_ventas\": 42000, \"año\": 2024},\n",
    "    {\"mes\": \"Abril 2\", \"total_ventas\": 39000, \"año\": 2024},\n",
    "    {\"mes\": \"Mayo 2\", \"total_ventas\": 45000, \"año\": 2024},\n",
    "    {\"mes\": \"Junio 2\", \"total_ventas\": 48000, \"año\": 2024},\n",
    "    {\"mes\": \"Julio 2\", \"total_ventas\": 52000, \"año\": 2024},\n",
    "    {\"mes\": \"Agosto 2\", \"total_ventas\": 50000, \"año\": 2024},\n",
    "    {\"mes\": \"Septiembre 2\", \"total_ventas\": 48000, \"año\": 2024},\n",
    "    {\"mes\": \"Octubre 2\", \"total_ventas\": 51000, \"año\": 2024},\n",
    "    {\"mes\": \"Noviembre 2\", \"total_ventas\": 55000, \"año\": 2024},\n",
    "    {\"mes\": \"Diciembre 2\", \"total_ventas\": 58000, \"año\": 2024},\n",
    "]"
   ]
  },
  {
   "cell_type": "markdown",
   "metadata": {},
   "source": [
    "```\n",
    "Creamos el dataframe\n",
    "```"
   ]
  },
  {
   "cell_type": "code",
   "execution_count": null,
   "metadata": {},
   "outputs": [],
   "source": [
    "ventas_df = pd.DataFrame(ventas_mensuales)"
   ]
  },
  {
   "cell_type": "markdown",
   "metadata": {},
   "source": [
    "```\n",
    "Creamos un diccionario llamado meses que asocia el nombre de cada mes con su respectivo número.\n",
    "Para poder utilizarlo más adelante para calcular el trimestre al que pertenece cada mes.\n",
    "```"
   ]
  },
  {
   "cell_type": "code",
   "execution_count": null,
   "metadata": {},
   "outputs": [],
   "source": [
    "meses = {\n",
    "    \"Enero\": 1, \"Febrero\": 2, \"Marzo\": 3, \"Abril\": 4, \"Mayo\": 5, \"Junio\": 6,\n",
    "    \"Julio\": 7, \"Agosto\": 8, \"Septiembre\": 9, \"Octubre\": 10, \"Noviembre\": 11, \"Diciembre\": 12\n",
    "}"
   ]
  },
  {
   "cell_type": "markdown",
   "metadata": {},
   "source": [
    "```\n",
    "Agregamos una nueva columna llamada trimestre\n",
    "El cual indica el trimestre al que pertenece cada mes\n",
    "```"
   ]
  },
  {
   "cell_type": "code",
   "execution_count": null,
   "metadata": {},
   "outputs": [],
   "source": [
    "ventas_df['trimestre'] = (ventas_df['mes'].apply(lambda x: meses[x.split()[0]]) - 1) // 3 + 1"
   ]
  },
  {
   "cell_type": "markdown",
   "metadata": {},
   "source": [
    "```\n",
    "Agrupamos los datos por trimestre y calculamos el total de ventas para cada trimestre\n",
    "```"
   ]
  },
  {
   "cell_type": "code",
   "execution_count": null,
   "metadata": {},
   "outputs": [],
   "source": [
    "ventas_por_trimestre = ventas_df.groupby('trimestre')['total_ventas'].sum()\n",
    "print(\"Ventas por trimestre: \",ventas_por_trimestre) "
   ]
  },
  {
   "cell_type": "markdown",
   "metadata": {},
   "source": [
    "```\n",
    "Filtramos y mostramos solo los meses donde las ventas superen 20000.\n",
    "```"
   ]
  },
  {
   "cell_type": "code",
   "execution_count": null,
   "metadata": {},
   "outputs": [],
   "source": [
    "meses_mayores_a_20000 = ventas_df[ventas_df['total_ventas'] > 20000]['mes']\n",
    "print(\"Meses con ventas superiores a 20000: \",meses_mayores_a_20000)"
   ]
  },
  {
   "cell_type": "markdown",
   "metadata": {},
   "source": [
    "```\n",
    "Encontrar el mes con el mayor volumen de ventas y mostrar esta información.\n",
    "\n",
    "```"
   ]
  },
  {
   "cell_type": "code",
   "execution_count": null,
   "metadata": {},
   "outputs": [],
   "source": [
    "mes_max_ventas = ventas_df.loc[ventas_df['total_ventas'].idxmax()]['mes']\n",
    "max_ventas = ventas_df['total_ventas'].max()\n",
    "print(\"Mes con el mayor volumen de ventas:\", mes_max_ventas, \"con\", max_ventas, \"ventas\")"
   ]
  },
  {
   "cell_type": "markdown",
   "metadata": {},
   "source": [
    "```\n",
    "Calculamos el promedio de las ventas \n",
    "```"
   ]
  },
  {
   "cell_type": "code",
   "execution_count": null,
   "metadata": {},
   "outputs": [],
   "source": [
    "promedio_ventas_mensuales = ventas_df['total_ventas'].mean()\n",
    "print(\"Promedio de ventas mensuales:\", promedio_ventas_mensuales)"
   ]
  },
  {
   "cell_type": "markdown",
   "metadata": {},
   "source": [
    "```\n",
    "Creamos un nuevo DataFrame que incluya dos columnas una para los meses y otra para el total de ventas de cada mes.\n",
    "```"
   ]
  },
  {
   "cell_type": "code",
   "execution_count": null,
   "metadata": {},
   "outputs": [],
   "source": [
    "ventas_por_mes_df = ventas_df[['mes', 'total_ventas']]\n",
    "print(\"Ventas por mes: \", ventas_por_mes_df)"
   ]
  },
  {
   "cell_type": "markdown",
   "metadata": {},
   "source": [
    "Basándote en el DataFrame creado, realiza un análisis de gráficos para visualizar la\n",
    "tendencia de ventas a lo largo de los meses. Utiliza un gráfico de líneas donde el eje x\n",
    "represente los meses y el eje y represente el total de ventas de cada mes."
   ]
  },
  {
   "cell_type": "markdown",
   "metadata": {},
   "source": [
    "```\n",
    "Indicamos los valores que van a ir en los ejes\n",
    "mes en el eje x y total_ventas en el eje y le agregamos un color a la linea y un simbolo de marca (con sutamaño y color) \n",
    "```"
   ]
  },
  {
   "cell_type": "code",
   "execution_count": null,
   "metadata": {},
   "outputs": [],
   "source": [
    "plt.plot(ventas_por_mes_df['mes'], ventas_por_mes_df['total_ventas'], color=\"purple\", marker='.',markersize=8, \n",
    "         markerfacecolor=\"red\")"
   ]
  },
  {
   "cell_type": "markdown",
   "metadata": {},
   "source": [
    "```\n",
    "Le agregamos la cuadricula\n",
    "```"
   ]
  },
  {
   "cell_type": "code",
   "execution_count": null,
   "metadata": {},
   "outputs": [],
   "source": [
    "plt.grid(True)"
   ]
  },
  {
   "cell_type": "markdown",
   "metadata": {},
   "source": [
    "```\n",
    "Nombre del eje x\n",
    "```"
   ]
  },
  {
   "cell_type": "code",
   "execution_count": null,
   "metadata": {},
   "outputs": [],
   "source": [
    "plt.xlabel('Meses')"
   ]
  },
  {
   "cell_type": "markdown",
   "metadata": {},
   "source": [
    "```\n",
    "Nombre del eje y\n",
    "```"
   ]
  },
  {
   "cell_type": "code",
   "execution_count": null,
   "metadata": {},
   "outputs": [],
   "source": [
    "plt.ylabel('Ventas')"
   ]
  },
  {
   "cell_type": "markdown",
   "metadata": {},
   "source": [
    "```\n",
    "Titulo del grafico\n",
    "```"
   ]
  },
  {
   "cell_type": "code",
   "execution_count": null,
   "metadata": {},
   "outputs": [],
   "source": [
    "plt.title('Tendencia de ventas')"
   ]
  },
  {
   "cell_type": "code",
   "execution_count": null,
   "metadata": {},
   "outputs": [],
   "source": [
    "plt.xticks(rotation=70) "
   ]
  },
  {
   "cell_type": "markdown",
   "metadata": {},
   "source": [
    "```\n",
    "Mostramos la grafica despues de definir los elementos\n",
    "```"
   ]
  },
  {
   "cell_type": "code",
   "execution_count": 1,
   "metadata": {},
   "outputs": [
    {
     "ename": "NameError",
     "evalue": "name 'plt' is not defined",
     "output_type": "error",
     "traceback": [
      "\u001b[1;31m---------------------------------------------------------------------------\u001b[0m",
      "\u001b[1;31mNameError\u001b[0m                                 Traceback (most recent call last)",
      "Cell \u001b[1;32mIn[1], line 1\u001b[0m\n\u001b[1;32m----> 1\u001b[0m \u001b[43mplt\u001b[49m\u001b[38;5;241m.\u001b[39mshow()\n",
      "\u001b[1;31mNameError\u001b[0m: name 'plt' is not defined"
     ]
    }
   ],
   "source": [
    "plt.show()"
   ]
  }
 ],
 "metadata": {
  "kernelspec": {
   "display_name": "Python 3",
   "language": "python",
   "name": "python3"
  },
  "language_info": {
   "codemirror_mode": {
    "name": "ipython",
    "version": 3
   },
   "file_extension": ".py",
   "mimetype": "text/x-python",
   "name": "python",
   "nbconvert_exporter": "python",
   "pygments_lexer": "ipython3",
   "version": "3.12.3"
  }
 },
 "nbformat": 4,
 "nbformat_minor": 2
}
